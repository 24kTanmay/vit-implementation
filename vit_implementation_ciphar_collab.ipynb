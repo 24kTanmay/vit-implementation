{
  "cells": [
    {
      "cell_type": "markdown",
      "metadata": {
        "id": "ExvFOPYTunv-"
      },
      "source": [
        "### Importing Modules"
      ]
    },
    {
      "cell_type": "code",
      "execution_count": 2,
      "metadata": {
        "id": "2-jszLFyrrAB"
      },
      "outputs": [],
      "source": [
        "import torch\n",
        "import pandas as pd\n",
        "from torch import nn\n",
        "from torch import optim\n",
        "from torch.utils.data import DataLoader, Dataset,random_split\n",
        "from torchvision import transforms\n",
        "from sklearn.model_selection import train_test_split\n",
        "import matplotlib.pyplot as plt\n",
        "import numpy as np\n",
        "import random\n",
        "import timeit\n",
        "from tqdm import tqdm\n",
        "from torchvision.datasets import CIFAR100"
      ]
    },
    {
      "cell_type": "markdown",
      "metadata": {
        "id": "reIg4vB6unwB"
      },
      "source": [
        "### Setting the hyperparameters"
      ]
    },
    {
      "cell_type": "code",
      "execution_count": 3,
      "metadata": {
        "id": "J0LaR4EirrAC"
      },
      "outputs": [],
      "source": [
        "RANDOM_SEED = 42\n",
        "BATCH_SIZE = 512\n",
        "EPOCHS = 40\n",
        "LEARNING_RATE = 1e-4\n",
        "NUM_CLASSES = 100  # Updated for CIFAR-100\n",
        "PATCH_SIZE = 4\n",
        "IMG_SIZE = 32  # Updated for CIFAR-100\n",
        "IN_CHANNELS = 3  # Updated for CIFAR-100 (RGB)\n",
        "NUM_HEADS = 8\n",
        "DROPOUT = 0.01\n",
        "HIDDEN_DIM = 768\n",
        "ADAM_WEIGHT_DECAY = 0\n",
        "ADAM_BETAS = (0.9, 0.999)\n",
        "ACTIVATION = \"gelu\"\n",
        "NUM_ENCODERS = 4\n",
        "EMBED_DIM = (PATCH_SIZE ** 2) * IN_CHANNELS  # Updated\n",
        "NUM_PATCHES = (IMG_SIZE // PATCH_SIZE) ** 2  # Updated\n",
        "\n",
        "random.seed(RANDOM_SEED)\n",
        "np.random.seed(RANDOM_SEED)\n",
        "torch.manual_seed(RANDOM_SEED)\n",
        "torch.cuda.manual_seed(RANDOM_SEED)\n",
        "torch.cuda.manual_seed_all(RANDOM_SEED)\n",
        "torch.backends.cudnn.deterministic = True\n",
        "torch.backends.cudnn.benchmark = False\n",
        "\n",
        "device = \"cuda\" if torch.cuda.is_available() else \"cpu\""
      ]
    },
    {
      "cell_type": "markdown",
      "metadata": {
        "id": "WnV9AIn9unwC"
      },
      "source": [
        "### Patch Embedding with position embedding"
      ]
    },
    {
      "cell_type": "code",
      "execution_count": 4,
      "metadata": {
        "colab": {
          "base_uri": "https://localhost:8080/"
        },
        "id": "n1i1FKFIrrAC",
        "outputId": "ace5312d-49db-4062-d1f0-401e36f44d16"
      },
      "outputs": [
        {
          "output_type": "stream",
          "name": "stdout",
          "text": [
            "torch.Size([512, 65, 48])\n"
          ]
        }
      ],
      "source": [
        "class PatchEmbedding(nn.Module):\n",
        "    def __init__(self, embed_dim, patch_size, num_patches, dropout, in_channels):\n",
        "        super().__init__()\n",
        "        self.patcher = nn.Sequential(\n",
        "            nn.Conv2d(\n",
        "                in_channels=in_channels,\n",
        "                out_channels=embed_dim,\n",
        "                kernel_size=patch_size,\n",
        "                stride=patch_size,\n",
        "            ),\n",
        "            nn.Flatten(2)\n",
        "        )\n",
        "\n",
        "        self.cls_token = nn.Parameter(torch.randn(1, 1, embed_dim), requires_grad=True)  # Fixed shape\n",
        "        self.position_embeddings = nn.Parameter(torch.randn(1, num_patches + 1, embed_dim), requires_grad=True)\n",
        "        self.dropout = nn.Dropout(p=dropout)\n",
        "\n",
        "    def forward(self, x):\n",
        "        batch_size = x.shape[0]\n",
        "        cls_token = self.cls_token.expand(batch_size, -1, -1)  # Expand for batch size\n",
        "\n",
        "        x = self.patcher(x).permute(0, 2, 1)  # (B, num_patches, embed_dim)\n",
        "        x = torch.cat([cls_token, x], dim=1)  # Add CLS token\n",
        "        x = self.position_embeddings + x  # Add positional embeddings\n",
        "        x = self.dropout(x)\n",
        "        return x\n",
        "\n",
        "# Model instantiation\n",
        "model = PatchEmbedding(EMBED_DIM, PATCH_SIZE, NUM_PATCHES, DROPOUT, IN_CHANNELS).to(device)\n",
        "\n",
        "# Test with CIFAR-100-sized batch\n",
        "x = torch.randn(512, 3, 32, 32).to(device)  # Updated input tensor\n",
        "print(model(x).shape)  # Should output (512, num_patches+1, embed_dim)"
      ]
    },
    {
      "cell_type": "markdown",
      "metadata": {
        "id": "ozjlaoBsunwD"
      },
      "source": [
        "### VIT implementation with encoder and MLP"
      ]
    },
    {
      "cell_type": "code",
      "execution_count": 5,
      "metadata": {
        "colab": {
          "base_uri": "https://localhost:8080/"
        },
        "id": "40emKyeirrAD",
        "outputId": "efa34721-0f62-4bde-89f3-b58a31bd2e31"
      },
      "outputs": [
        {
          "output_type": "stream",
          "name": "stderr",
          "text": [
            "/usr/local/lib/python3.11/dist-packages/torch/nn/modules/transformer.py:379: UserWarning: enable_nested_tensor is True, but self.use_nested_tensor is False because encoder_layer.norm_first was True\n",
            "  warnings.warn(\n"
          ]
        },
        {
          "output_type": "stream",
          "name": "stdout",
          "text": [
            "torch.Size([512, 100])\n"
          ]
        }
      ],
      "source": [
        "class ViT(nn.Module):\n",
        "    def __init__(self, num_patches, num_classes, patch_size, embed_dim, num_encoders, num_heads, hidden_dim, dropout, activation, in_channels):\n",
        "        super().__init__()\n",
        "        self.embeddings_block = PatchEmbedding(embed_dim, patch_size, num_patches, dropout, in_channels)\n",
        "\n",
        "        encoder_layer = nn.TransformerEncoderLayer(\n",
        "            d_model=embed_dim,\n",
        "            nhead=num_heads,\n",
        "            dropout=dropout,\n",
        "            activation=activation,\n",
        "            batch_first=True,\n",
        "            norm_first=True\n",
        "        )\n",
        "        self.encoder_blocks = nn.TransformerEncoder(encoder_layer, num_layers=num_encoders)\n",
        "\n",
        "        self.mlp_head = nn.Sequential(\n",
        "            nn.LayerNorm(normalized_shape=embed_dim),\n",
        "            nn.Linear(in_features=embed_dim, out_features=num_classes)\n",
        "        )\n",
        "\n",
        "    def forward(self, x):\n",
        "        x = self.embeddings_block(x)\n",
        "        x = self.encoder_blocks(x)\n",
        "        x = self.mlp_head(x[:, 0, :])  # CLS token used for classification\n",
        "        return x\n",
        "\n",
        "# Instantiate model for CIFAR-100\n",
        "model = ViT(NUM_PATCHES, NUM_CLASSES, PATCH_SIZE, EMBED_DIM, NUM_ENCODERS, NUM_HEADS, HIDDEN_DIM, DROPOUT, ACTIVATION, IN_CHANNELS).to(device)\n",
        "\n",
        "# Test with CIFAR-100-sized batch\n",
        "x = torch.randn(512, 3, 32, 32).to(device)  # Updated input tensor\n",
        "print(model(x).shape)  # Expected output: (512, 100)"
      ]
    },
    {
      "cell_type": "markdown",
      "metadata": {
        "id": "WOQ5kJTvunwE"
      },
      "source": [
        "### Dataset Preparation"
      ]
    },
    {
      "cell_type": "code",
      "execution_count": 6,
      "metadata": {
        "colab": {
          "base_uri": "https://localhost:8080/"
        },
        "id": "-lbqXWMCrrAD",
        "outputId": "438e3806-db7c-41f4-af92-568df79d4943"
      },
      "outputs": [
        {
          "output_type": "stream",
          "name": "stdout",
          "text": [
            "Downloading https://www.cs.toronto.edu/~kriz/cifar-100-python.tar.gz to ./data/cifar-100-python.tar.gz\n"
          ]
        },
        {
          "output_type": "stream",
          "name": "stderr",
          "text": [
            "100%|██████████| 169M/169M [00:03<00:00, 44.8MB/s]\n"
          ]
        },
        {
          "output_type": "stream",
          "name": "stdout",
          "text": [
            "Extracting ./data/cifar-100-python.tar.gz to ./data\n",
            "Files already downloaded and verified\n"
          ]
        },
        {
          "output_type": "stream",
          "name": "stderr",
          "text": [
            "/usr/local/lib/python3.11/dist-packages/torch/utils/data/dataloader.py:617: UserWarning: This DataLoader will create 4 worker processes in total. Our suggested max number of worker in current system is 2, which is smaller than what this DataLoader is going to create. Please be aware that excessive worker creation might get DataLoader running slow or even freeze, lower the worker number to avoid potential slowness/freeze if necessary.\n",
            "  warnings.warn(\n"
          ]
        }
      ],
      "source": [
        "# Define CIFAR-100 transforms (Normalization values are from official dataset preprocessing)\n",
        "transform = transforms.Compose([\n",
        "    transforms.ToTensor(),\n",
        "    transforms.Normalize(mean=[0.5071, 0.4867, 0.4408], std=[0.2675, 0.2565, 0.2761])\n",
        "])\n",
        "\n",
        "# Load CIFAR-100 dataset\n",
        "train_dataset = CIFAR100(root=\"./data\", train=True, transform=transform, download=True)\n",
        "test_dataset = CIFAR100(root=\"./data\", train=False, transform=transform, download=True)\n",
        "\n",
        "# Split training set into train and validation (e.g., 90% train, 10% validation)\n",
        "train_size = int(0.9 * len(train_dataset))\n",
        "val_size = len(train_dataset) - train_size\n",
        "train_dataset, val_dataset = random_split(train_dataset, [train_size, val_size])\n",
        "\n",
        "# Create DataLoaders\n",
        "BATCH_SIZE = 512\n",
        "train_loader = DataLoader(train_dataset, batch_size=BATCH_SIZE, shuffle=True, num_workers=4)\n",
        "val_loader = DataLoader(val_dataset, batch_size=BATCH_SIZE, shuffle=False, num_workers=4)\n",
        "test_loader = DataLoader(test_dataset, batch_size=BATCH_SIZE, shuffle=False, num_workers=4)"
      ]
    },
    {
      "cell_type": "markdown",
      "metadata": {
        "id": "sf4ikd3yunwF"
      },
      "source": [
        "### Train Dataset"
      ]
    },
    {
      "cell_type": "code",
      "execution_count": 7,
      "metadata": {
        "id": "cPp_Zxfs3Ar4"
      },
      "outputs": [],
      "source": [
        "class CIFAR100TrainDataset(Dataset):\n",
        "    def __init__(self, dataset):\n",
        "        self.dataset = dataset\n",
        "        self.transform = transforms.Compose([\n",
        "            transforms.RandomCrop(32, padding=4),\n",
        "            transforms.RandomHorizontalFlip(),\n",
        "            transforms.RandomRotation(15),\n",
        "            transforms.ToTensor(),\n",
        "            transforms.Normalize(mean=[0.5071, 0.4867, 0.4408], std=[0.2675, 0.2565, 0.2761])\n",
        "        ])\n",
        "\n",
        "    def __len__(self):\n",
        "        return len(self.dataset)\n",
        "\n",
        "    def __getitem__(self, idx):\n",
        "        image, label = self.dataset[idx]\n",
        "        image = self.transform(image)\n",
        "        return {\"image\": image, \"label\": label, \"index\": idx}\n",
        "\n",
        "class CIFAR100ValDataset(Dataset):\n",
        "    def __init__(self, dataset):\n",
        "        self.dataset = dataset\n",
        "        self.transform = transforms.Compose([\n",
        "            transforms.ToTensor(),\n",
        "            transforms.Normalize(mean=[0.5071, 0.4867, 0.4408], std=[0.2675, 0.2565, 0.2761])\n",
        "        ])\n",
        "\n",
        "    def __len__(self):\n",
        "        return len(self.dataset)\n",
        "\n",
        "    def __getitem__(self, idx):\n",
        "        image, label = self.dataset[idx]\n",
        "        image = self.transform(image)\n",
        "        return {\"image\": image, \"label\": label, \"index\": idx}\n",
        "\n",
        "class CIFAR100TestDataset(Dataset):\n",
        "    def __init__(self, dataset):\n",
        "        self.dataset = dataset\n",
        "        self.transform = transforms.Compose([\n",
        "            transforms.ToTensor(),\n",
        "            transforms.Normalize(mean=[0.5071, 0.4867, 0.4408], std=[0.2675, 0.2565, 0.2761])\n",
        "        ])\n",
        "\n",
        "    def __len__(self):\n",
        "        return len(self.dataset)\n",
        "\n",
        "    def __getitem__(self, idx):\n",
        "        image, _ = self.dataset[idx]  # No label in test set\n",
        "        image = self.transform(image)\n",
        "        return {\"image\": image, \"index\": idx}"
      ]
    },
    {
      "cell_type": "markdown",
      "metadata": {
        "id": "6I-slbQiunwG"
      },
      "source": [
        "### Train Data Plot"
      ]
    },
    {
      "cell_type": "code",
      "execution_count": 8,
      "metadata": {
        "colab": {
          "base_uri": "https://localhost:8080/",
          "height": 328
        },
        "id": "QdHQCfT2rrAE",
        "outputId": "ab97abcc-e3f7-4e71-a22b-34ed8dbcb999"
      },
      "outputs": [
        {
          "output_type": "display_data",
          "data": {
            "text/plain": [
              "<Figure size 1000x500 with 0 Axes>"
            ]
          },
          "metadata": {}
        },
        {
          "output_type": "display_data",
          "data": {
            "text/plain": [
              "<Figure size 1000x500 with 3 Axes>"
            ],
            "image/png": "[encoded data removed]"
          },
          "metadata": {}
        }
      ],
      "source": [
        "# Get samples using indices from the original dataset\n",
        "train_idx = train_dataset.indices[0] if hasattr(train_dataset, 'indices') else 0\n",
        "val_idx = val_dataset.indices[0] if hasattr(val_dataset, 'indices') else 0\n",
        "\n",
        "train_sample, _ = train_dataset.dataset[train_idx]  # Access original dataset\n",
        "val_sample, _ = val_dataset.dataset[val_idx]\n",
        "test_sample, _ = test_dataset[0]  # No change for test dataset\n",
        "\n",
        "# Convert (C, H, W) to (H, W, C) for visualization\n",
        "train_sample = train_sample.permute(1, 2, 0).numpy()\n",
        "val_sample = val_sample.permute(1, 2, 0).numpy()\n",
        "test_sample = test_sample.permute(1, 2, 0).numpy()\n",
        "\n",
        "# CIFAR-100 normalization (denormalize for visualization)\n",
        "mean = np.array([0.5071, 0.4867, 0.4408])\n",
        "std = np.array([0.2675, 0.2565, 0.2761])\n",
        "\n",
        "train_sample = (train_sample * std + mean).clip(0, 1)\n",
        "val_sample = (val_sample * std + mean).clip(0, 1)\n",
        "test_sample = (test_sample * std + mean).clip(0, 1)\n",
        "\n",
        "# Plot images\n",
        "plt.figure(figsize=(10, 5))\n",
        "f, axarr = plt.subplots(1, 3, figsize=(10, 5))\n",
        "\n",
        "axarr[0].imshow(train_sample)\n",
        "axarr[0].set_title(\"Train Image\")\n",
        "\n",
        "axarr[1].imshow(val_sample)\n",
        "axarr[1].set_title(\"Val Image\")\n",
        "\n",
        "axarr[2].imshow(test_sample)\n",
        "axarr[2].set_title(\"Test Image\")\n",
        "\n",
        "plt.show()"
      ]
    },
    {
      "cell_type": "markdown",
      "metadata": {
        "id": "B3E5OmyqunwG"
      },
      "source": [
        "### Training the model"
      ]
    },
    {
      "cell_type": "code",
      "execution_count": null,
      "metadata": {
        "colab": {
          "base_uri": "https://localhost:8080/"
        },
        "id": "1OrPYP1krrAD",
        "outputId": "d040574e-66ec-43ce-8fdb-b62b743581bd"
      },
      "outputs": [
        {
          "output_type": "stream",
          "name": "stderr",
          "text": [
            "  8%|▊         | 7/88 [02:03<22:54, 16.96s/it]"
          ]
        }
      ],
      "source": [
        "# Loss function and optimizer\n",
        "criterion = nn.CrossEntropyLoss()\n",
        "optimizer = optim.Adam(model.parameters(), betas=ADAM_BETAS, lr=LEARNING_RATE, weight_decay=ADAM_WEIGHT_DECAY)\n",
        "\n",
        "start = timeit.default_timer()\n",
        "\n",
        "for epoch in tqdm(range(EPOCHS), position=0, leave=True):\n",
        "    model.train()\n",
        "    train_correct, train_total, train_running_loss = 0, 0, 0\n",
        "\n",
        "    for idx, (img, label) in enumerate(tqdm(train_loader, position=0, leave=True)):\n",
        "        img, label = img.to(device), label.to(device, dtype=torch.long)  # Ensure correct dtype\n",
        "\n",
        "        y_pred = model(img)\n",
        "        loss = criterion(y_pred, label)\n",
        "\n",
        "        optimizer.zero_grad()\n",
        "        loss.backward()\n",
        "        optimizer.step()\n",
        "\n",
        "        train_running_loss += loss.item()\n",
        "\n",
        "        # Compute accuracy\n",
        "        y_pred_label = torch.argmax(y_pred, dim=1)\n",
        "        train_correct += (y_pred_label == label).sum().item()\n",
        "        train_total += label.size(0)\n",
        "\n",
        "    train_loss = train_running_loss / (idx + 1)\n",
        "    train_accuracy = train_correct / train_total\n",
        "\n",
        "    # Validation phase\n",
        "    model.eval()\n",
        "    val_correct, val_total, val_running_loss = 0, 0, 0\n",
        "\n",
        "    with torch.no_grad():\n",
        "        for idx, (img, label) in enumerate(tqdm(val_loader, position=0, leave=True)):\n",
        "            img, label = img.to(device), label.to(device, dtype=torch.long)\n",
        "\n",
        "            y_pred = model(img)\n",
        "            loss = criterion(y_pred, label)\n",
        "            val_running_loss += loss.item()\n",
        "\n",
        "            # Compute accuracy\n",
        "            y_pred_label = torch.argmax(y_pred, dim=1)\n",
        "            val_correct += (y_pred_label == label).sum().item()\n",
        "            val_total += label.size(0)\n",
        "\n",
        "    val_loss = val_running_loss / (idx + 1)\n",
        "    val_accuracy = val_correct / val_total\n",
        "\n",
        "    print(\"-\" * 30)\n",
        "    print(f\"Train Loss EPOCH {epoch+1}: {train_loss:.4f}\")\n",
        "    print(f\"Valid Loss EPOCH {epoch+1}: {val_loss:.4f}\")\n",
        "    print(f\"Train Accuracy EPOCH {epoch+1}: {train_accuracy:.4f}\")\n",
        "    print(f\"Valid Accuracy EPOCH {epoch+1}: {val_accuracy:.4f}\")\n",
        "    print(\"-\" * 30)\n",
        "\n",
        "stop = timeit.default_timer()\n",
        "print(f\"Training Time: {stop-start:.2f}s\")"
      ]
    },
    {
      "cell_type": "code",
      "execution_count": null,
      "metadata": {
        "id": "Ci4Oe6zFrrAE"
      },
      "outputs": [],
      "source": [
        "torch.cuda.empty_cache()"
      ]
    },
    {
      "cell_type": "markdown",
      "metadata": {
        "id": "iFOi2liGunwH"
      },
      "source": [
        "### Evaluation the model"
      ]
    },
    {
      "cell_type": "code",
      "execution_count": null,
      "metadata": {
        "id": "ZLLvETdqrrAE"
      },
      "outputs": [],
      "source": [
        "labels = []\n",
        "imgs = []\n",
        "model.eval()\n",
        "with torch.no_grad():\n",
        "    for img, _ in tqdm(test_loader, position=0, leave=True):  # Use (img, label) format\n",
        "        img = img.to(device)\n",
        "        outputs = model(img)\n",
        "\n",
        "        # Store predictions\n",
        "        labels.extend(torch.argmax(outputs, dim=1).cpu().tolist())  # Convert to list"
      ]
    },
    {
      "cell_type": "code",
      "execution_count": null,
      "metadata": {
        "id": "DUddafu8rrAE"
      },
      "outputs": [],
      "source": [
        "# Load a few test images again for visualization\n",
        "test_samples, _ = next(iter(test_loader))  # Get a batch of test images\n",
        "test_samples = test_samples[:6]  # Take first 6 images\n",
        "\n",
        "# Forward pass through the model\n",
        "model.eval()\n",
        "with torch.no_grad():\n",
        "    outputs = model(test_samples.to(device))\n",
        "    predictions = torch.argmax(outputs, dim=1).cpu().tolist()\n",
        "\n",
        "# Plot the images with their predicted labels\n",
        "plt.figure()\n",
        "f, axarr = plt.subplots(2, 3, figsize=(10, 6))  # Adjust figure size\n",
        "counter = 0\n",
        "for i in range(2):\n",
        "    for j in range(3):\n",
        "        img = test_samples[counter].permute(1, 2, 0).numpy()  # Convert to (H, W, C)\n",
        "        img = (img * np.array([0.2675, 0.2565, 0.2761])) + np.array([0.5071, 0.4867, 0.4408])  # Denormalize\n",
        "        img = img.clip(0, 1)  # Ensure valid pixel range\n",
        "\n",
        "        axarr[i][j].imshow(img)  # No cmap needed for RGB\n",
        "        axarr[i][j].set_title(f\"Predicted {predictions[counter]}\")\n",
        "        axarr[i][j].axis(\"off\")  # Hide axes for cleaner visualization\n",
        "        counter += 1\n",
        "\n",
        "plt.show()"
      ]
    }
  ],
  "metadata": {
    "colab": {
      "collapsed_sections": [
        "reIg4vB6unwB",
        "WnV9AIn9unwC",
        "ozjlaoBsunwD",
        "WOQ5kJTvunwE",
        "sf4ikd3yunwF",
        "6I-slbQiunwG"
      ],
      "provenance": []
    },
    "kernelspec": {
      "display_name": "Python 3 (ipykernel)",
      "language": "python",
      "name": "python3"
    },
    "language_info": {
      "codemirror_mode": {
        "name": "ipython",
        "version": 3
      },
      "file_extension": ".py",
      "mimetype": "text/x-python",
      "name": "python",
      "nbconvert_exporter": "python",
      "pygments_lexer": "ipython3",
      "version": "3.9.12"
    }
  },
  "nbformat": 4,
  "nbformat_minor": 0
}